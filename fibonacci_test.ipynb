{
 "cells": [
  {
   "cell_type": "code",
   "execution_count": 8,
   "id": "45af4fc0-6e43-45d3-9ae7-738a01e0db13",
   "metadata": {},
   "outputs": [
    {
     "data": {
      "text/plain": [
       "False"
      ]
     },
     "execution_count": 8,
     "metadata": {},
     "output_type": "execute_result"
    }
   ],
   "source": [
    "x == 0"
   ]
  },
  {
   "cell_type": "code",
   "execution_count": 9,
   "id": "153f7a9f-ea13-4a32-9e91-d8b202729e49",
   "metadata": {},
   "outputs": [
    {
     "name": "stdout",
     "output_type": "stream",
     "text": [
      "0\n",
      "1\n",
      "2\n",
      "3\n",
      "4\n",
      "5\n",
      "6\n",
      "7\n",
      "8\n",
      "9\n"
     ]
    }
   ],
   "source": [
    "for i in range(10): \n",
    "    print(i)"
   ]
  },
  {
   "cell_type": "code",
   "execution_count": 10,
   "id": "97481dec-e581-4285-ba10-a0391c022ec5",
   "metadata": {},
   "outputs": [
    {
     "name": "stdout",
     "output_type": "stream",
     "text": [
      "0\n",
      "2\n",
      "4\n",
      "6\n",
      "8\n"
     ]
    }
   ],
   "source": [
    "for element in range(0, 10, 2):\n",
    "    print(element)"
   ]
  },
  {
   "cell_type": "code",
   "execution_count": 12,
   "id": "28bcced0-6e8c-4294-805c-95bf58fcbc23",
   "metadata": {},
   "outputs": [
    {
     "name": "stdout",
     "output_type": "stream",
     "text": [
      "0\n",
      "1\n",
      "2\n",
      "3\n",
      "4\n",
      "5\n",
      "6\n",
      "7\n",
      "8\n",
      "9\n"
     ]
    }
   ],
   "source": [
    "x = 0 \n",
    "\n",
    "while x<10:\n",
    "    print(x)\n",
    "    x += 1"
   ]
  },
  {
   "cell_type": "code",
   "execution_count": 15,
   "id": "cc994741-4cd5-4004-8d8f-2fa01acfd2d7",
   "metadata": {},
   "outputs": [],
   "source": [
    "def e_potentielle_limite(masse, hauteur, limite, g=9.81):\n",
    "    E=masse*hauteur*g\n",
    "    print(E)\n",
    "    return E<limite"
   ]
  },
  {
   "cell_type": "code",
   "execution_count": 16,
   "id": "3c7ddfc2-0ab0-4ba6-a238-2d2ce14a50f7",
   "metadata": {},
   "outputs": [
    {
     "name": "stdout",
     "output_type": "stream",
     "text": [
      "4905.0\n"
     ]
    },
    {
     "data": {
      "text/plain": [
       "True"
      ]
     },
     "execution_count": 16,
     "metadata": {},
     "output_type": "execute_result"
    }
   ],
   "source": [
    "e_potentielle_limite(50, 10, 6000)"
   ]
  },
  {
   "cell_type": "code",
   "execution_count": 2,
   "id": "9e703ea2-5a35-4616-b25f-f0e262a6c93f",
   "metadata": {},
   "outputs": [
    {
     "data": {
      "text/plain": [
       "[0, 1, 1, 2, 3, 5, 8, 13, 21, 34]"
      ]
     },
     "execution_count": 2,
     "metadata": {},
     "output_type": "execute_result"
    }
   ],
   "source": [
    "def fibonacci(n):\n",
    "    sequence = [0, 1]\n",
    "    while sequence[-1] + sequence[-2] <= n: \n",
    "        sequence.append(sequence[-1] + sequence[-2])\n",
    "    return sequence\n",
    "fibonacci(50)"
   ]
  },
  {
   "cell_type": "code",
   "execution_count": 5,
   "id": "355b285d-0053-4b31-b008-f6a099f2a5f4",
   "metadata": {},
   "outputs": [
    {
     "name": "stdout",
     "output_type": "stream",
     "text": [
      "0\n",
      "1\n",
      "1\n",
      "2\n",
      "3\n",
      "5\n",
      "8\n",
      "13\n",
      "21\n",
      "34\n"
     ]
    }
   ],
   "source": [
    "def fibonacci(n):\n",
    "    a = 0\n",
    "    b = 1\n",
    "    while a <= n:\n",
    "        print(a)\n",
    "        a, b = b, a + b\n",
    "fibonacci(50)"
   ]
  },
  {
   "cell_type": "code",
   "execution_count": 6,
   "id": "9e628eed-b7ba-41d5-b051-b807899ddd2f",
   "metadata": {},
   "outputs": [
    {
     "data": {
      "text/plain": [
       "['Paris', 'Berlin', 'Londres', 'Bruxelles', 'Dublin']"
      ]
     },
     "execution_count": 6,
     "metadata": {},
     "output_type": "execute_result"
    }
   ],
   "source": [
    "villes = ['Paris', 'Berlin', 'Londres', 'Bruxelles']\n",
    "villes.append('Dublin')\n",
    "villes"
   ]
  },
  {
   "cell_type": "code",
   "execution_count": 7,
   "id": "bdf68ca8-4998-47d5-9a96-03b97e0f16fc",
   "metadata": {},
   "outputs": [
    {
     "data": {
      "text/plain": [
       "['Paris', 'Berlin', 'Madrid', 'Londres', 'Bruxelles', 'Dublin']"
      ]
     },
     "execution_count": 7,
     "metadata": {},
     "output_type": "execute_result"
    }
   ],
   "source": [
    "villes.insert(2, 'Madrid')\n",
    "villes"
   ]
  },
  {
   "cell_type": "code",
   "execution_count": 10,
   "id": "fab93cd6-607d-4497-9304-3dbd6b2c316a",
   "metadata": {},
   "outputs": [
    {
     "data": {
      "text/plain": [
       "['Paris',\n",
       " 'Berlin',\n",
       " 'Madrid',\n",
       " 'Londres',\n",
       " 'Bruxelles',\n",
       " 'Dublin',\n",
       " 'Amsterdam',\n",
       " 'Rome']"
      ]
     },
     "execution_count": 10,
     "metadata": {},
     "output_type": "execute_result"
    }
   ],
   "source": [
    "villes_2 = ['Amsterdam', 'Rome']\n",
    "villes.extend(villes_2)\n",
    "villes"
   ]
  },
  {
   "cell_type": "code",
   "execution_count": 11,
   "id": "c2a2d5c4-f84f-46e3-8109-1d5bab19d6fc",
   "metadata": {},
   "outputs": [
    {
     "data": {
      "text/plain": [
       "8"
      ]
     },
     "execution_count": 11,
     "metadata": {},
     "output_type": "execute_result"
    }
   ],
   "source": [
    "len(villes)"
   ]
  },
  {
   "cell_type": "code",
   "execution_count": 13,
   "id": "7ef53998-a8b2-4a44-955b-d52d6272e0c2",
   "metadata": {},
   "outputs": [
    {
     "data": {
      "text/plain": [
       "['Amsterdam',\n",
       " 'Berlin',\n",
       " 'Bruxelles',\n",
       " 'Dublin',\n",
       " 'Londres',\n",
       " 'Madrid',\n",
       " 'Paris',\n",
       " 'Rome']"
      ]
     },
     "execution_count": 13,
     "metadata": {},
     "output_type": "execute_result"
    }
   ],
   "source": [
    "villes.sort()\n",
    "villes"
   ]
  },
  {
   "cell_type": "code",
   "execution_count": 15,
   "id": "1f7a5d8a-a2f8-406f-900e-81f02c9e8c45",
   "metadata": {},
   "outputs": [
    {
     "data": {
      "text/plain": [
       "[2, 3, 23, 24, 51, 51, 61, 78]"
      ]
     },
     "execution_count": 15,
     "metadata": {},
     "output_type": "execute_result"
    }
   ],
   "source": [
    "liste_2 = [51, 51, 23, 61, 3, 2, 78, 24]\n",
    "liste_2.sort()\n",
    "liste_2"
   ]
  },
  {
   "cell_type": "code",
   "execution_count": 20,
   "id": "858beb81-2fa5-4018-a7d0-8cab63491879",
   "metadata": {},
   "outputs": [
    {
     "data": {
      "text/plain": [
       "2"
      ]
     },
     "execution_count": 20,
     "metadata": {},
     "output_type": "execute_result"
    }
   ],
   "source": [
    "villes[3] = 'Paris'\n",
    "villes.count('Paris')"
   ]
  },
  {
   "cell_type": "code",
   "execution_count": null,
   "id": "daa61c3e-8856-4a87-8b3a-5b60aed94f90",
   "metadata": {},
   "outputs": [],
   "source": []
  }
 ],
 "metadata": {
  "kernelspec": {
   "display_name": "Python [conda env:base] *",
   "language": "python",
   "name": "conda-base-py"
  },
  "language_info": {
   "codemirror_mode": {
    "name": "ipython",
    "version": 3
   },
   "file_extension": ".py",
   "mimetype": "text/x-python",
   "name": "python",
   "nbconvert_exporter": "python",
   "pygments_lexer": "ipython3",
   "version": "3.12.7"
  }
 },
 "nbformat": 4,
 "nbformat_minor": 5
}
